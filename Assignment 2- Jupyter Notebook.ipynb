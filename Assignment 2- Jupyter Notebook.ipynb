{
 "cells": [
  {
   "cell_type": "markdown",
   "metadata": {},
   "source": [
    "# Assignment 2 - Data Analyst Course\n",
    "##### in this section you'll find the code and extra notes to analyse the 'Movie' dataset for the Udacity - Data Analyst Nanoodegree\n",
    "##### changes of the project will be saved by version control tool, GIT. The project will also be posted on GitHub as an extra excercise \n",
    "##### I'v set up the Jupyter Notebook locally to have an extra excercise \n",
    "##### Below you can find my assignment"
   ]
  },
  {
   "cell_type": "markdown",
   "metadata": {},
   "source": [
    "<a id='intro'></a>\n",
    "## Introduction\n",
    "\n",
    "> **Tip**: In this section of the report, provide a brief introduction to the dataset you've selected for analysis. At the end of this section, describe the questions that you plan on exploring over the course of the report. Try to build your report around the analysis of at least one dependent variable and three independent variables. If you're not sure what questions to ask, then make sure you familiarize yourself with the dataset, its variables and the dataset context for ideas of what to explore.\n",
    "\n",
    "> If you haven't yet selected and downloaded your data, make sure you do that first before coming back here. In order to work with the data in this workspace, you also need to upload it to the workspace. To do so, click on the jupyter icon in the upper left to be taken back to the workspace directory. There should be an 'Upload' button in the upper right that will let you add your data file(s) to the workspace. You can then click on the .ipynb file name to come back here."
   ]
  },
  {
   "cell_type": "code",
   "execution_count": 65,
   "metadata": {},
   "outputs": [
    {
     "name": "stdout",
     "output_type": "stream",
     "text": [
      "<bound method NDFrame.head of            id    imdb_id  popularity     budget     revenue  \\\n",
      "0      135397  tt0369610   32.985763  150000000  1513528810   \n",
      "1       76341  tt1392190   28.419936  150000000   378436354   \n",
      "2      262500  tt2908446   13.112507  110000000   295238201   \n",
      "3      140607  tt2488496   11.173104  200000000  2068178225   \n",
      "4      168259  tt2820852    9.335014  190000000  1506249360   \n",
      "...       ...        ...         ...        ...         ...   \n",
      "10861      21  tt0060371    0.080598          0           0   \n",
      "10862   20379  tt0060472    0.065543          0           0   \n",
      "10863   39768  tt0060161    0.065141          0           0   \n",
      "10864   21449  tt0061177    0.064317          0           0   \n",
      "10865   22293  tt0060666    0.035919      19000           0   \n",
      "\n",
      "                     original_title  \\\n",
      "0                    Jurassic World   \n",
      "1                Mad Max: Fury Road   \n",
      "2                         Insurgent   \n",
      "3      Star Wars: The Force Awakens   \n",
      "4                         Furious 7   \n",
      "...                             ...   \n",
      "10861            The Endless Summer   \n",
      "10862                    Grand Prix   \n",
      "10863           Beregis Avtomobilya   \n",
      "10864        What's Up, Tiger Lily?   \n",
      "10865      Manos: The Hands of Fate   \n",
      "\n",
      "                                                    cast  \\\n",
      "0      Chris Pratt|Bryce Dallas Howard|Irrfan Khan|Vi...   \n",
      "1      Tom Hardy|Charlize Theron|Hugh Keays-Byrne|Nic...   \n",
      "2      Shailene Woodley|Theo James|Kate Winslet|Ansel...   \n",
      "3      Harrison Ford|Mark Hamill|Carrie Fisher|Adam D...   \n",
      "4      Vin Diesel|Paul Walker|Jason Statham|Michelle ...   \n",
      "...                                                  ...   \n",
      "10861  Michael Hynson|Robert August|Lord 'Tally Ho' B...   \n",
      "10862  James Garner|Eva Marie Saint|Yves Montand|Tosh...   \n",
      "10863  Innokentiy Smoktunovskiy|Oleg Efremov|Georgi Z...   \n",
      "10864  Tatsuya Mihashi|Akiko Wakabayashi|Mie Hama|Joh...   \n",
      "10865  Harold P. Warren|Tom Neyman|John Reynolds|Dian...   \n",
      "\n",
      "                                                homepage            director  \\\n",
      "0                          http://www.jurassicworld.com/     Colin Trevorrow   \n",
      "1                            http://www.madmaxmovie.com/       George Miller   \n",
      "2         http://www.thedivergentseries.movie/#insurgent    Robert Schwentke   \n",
      "3      http://www.starwars.com/films/star-wars-episod...         J.J. Abrams   \n",
      "4                               http://www.furious7.com/           James Wan   \n",
      "...                                                  ...                 ...   \n",
      "10861                                                NaN         Bruce Brown   \n",
      "10862                                                NaN  John Frankenheimer   \n",
      "10863                                                NaN      Eldar Ryazanov   \n",
      "10864                                                NaN         Woody Allen   \n",
      "10865                                                NaN    Harold P. Warren   \n",
      "\n",
      "                                                 tagline  ...  \\\n",
      "0                                      The park is open.  ...   \n",
      "1                                     What a Lovely Day.  ...   \n",
      "2                             One Choice Can Destroy You  ...   \n",
      "3                          Every generation has a story.  ...   \n",
      "4                                    Vengeance Hits Home  ...   \n",
      "...                                                  ...  ...   \n",
      "10861                                                NaN  ...   \n",
      "10862  Cinerama sweeps YOU into a drama of speed and ...  ...   \n",
      "10863                                                NaN  ...   \n",
      "10864                          WOODY ALLEN STRIKES BACK!  ...   \n",
      "10865       It's Shocking! It's Beyond Your Imagination!  ...   \n",
      "\n",
      "                                                overview runtime  \\\n",
      "0      Twenty-two years after the events of Jurassic ...     124   \n",
      "1      An apocalyptic story set in the furthest reach...     120   \n",
      "2      Beatrice Prior must confront her inner demons ...     119   \n",
      "3      Thirty years after defeating the Galactic Empi...     136   \n",
      "4      Deckard Shaw seeks revenge against Dominic Tor...     137   \n",
      "...                                                  ...     ...   \n",
      "10861  The Endless Summer, by Bruce Brown, is one of ...      95   \n",
      "10862  Grand Prix driver Pete Aron is fired by his te...     176   \n",
      "10863  An insurance agent who moonlights as a carthie...      94   \n",
      "10864  In comic Woody Allen's film debut, he took the...      80   \n",
      "10865  A family gets lost on the road and stumbles up...      74   \n",
      "\n",
      "                                          genres  \\\n",
      "0      Action|Adventure|Science Fiction|Thriller   \n",
      "1      Action|Adventure|Science Fiction|Thriller   \n",
      "2             Adventure|Science Fiction|Thriller   \n",
      "3       Action|Adventure|Science Fiction|Fantasy   \n",
      "4                          Action|Crime|Thriller   \n",
      "...                                          ...   \n",
      "10861                                Documentary   \n",
      "10862                     Action|Adventure|Drama   \n",
      "10863                             Mystery|Comedy   \n",
      "10864                              Action|Comedy   \n",
      "10865                                     Horror   \n",
      "\n",
      "                                    production_companies release_date  \\\n",
      "0      Universal Studios|Amblin Entertainment|Legenda...       6/9/15   \n",
      "1      Village Roadshow Pictures|Kennedy Miller Produ...      5/13/15   \n",
      "2      Summit Entertainment|Mandeville Films|Red Wago...      3/18/15   \n",
      "3              Lucasfilm|Truenorth Productions|Bad Robot     12/15/15   \n",
      "4      Universal Pictures|Original Film|Media Rights ...       4/1/15   \n",
      "...                                                  ...          ...   \n",
      "10861                                  Bruce Brown Films      6/15/66   \n",
      "10862  Cherokee Productions|Joel Productions|Douglas ...     12/21/66   \n",
      "10863                                            Mosfilm       1/1/66   \n",
      "10864                            Benedict Pictures Corp.      11/2/66   \n",
      "10865                                          Norm-Iris     11/15/66   \n",
      "\n",
      "      vote_count  vote_average  release_year    budget_adj   revenue_adj  \n",
      "0           5562           6.5          2015  1.379999e+08  1.392446e+09  \n",
      "1           6185           7.1          2015  1.379999e+08  3.481613e+08  \n",
      "2           2480           6.3          2015  1.012000e+08  2.716190e+08  \n",
      "3           5292           7.5          2015  1.839999e+08  1.902723e+09  \n",
      "4           2947           7.3          2015  1.747999e+08  1.385749e+09  \n",
      "...          ...           ...           ...           ...           ...  \n",
      "10861         11           7.4          1966  0.000000e+00  0.000000e+00  \n",
      "10862         20           5.7          1966  0.000000e+00  0.000000e+00  \n",
      "10863         11           6.5          1966  0.000000e+00  0.000000e+00  \n",
      "10864         22           5.4          1966  0.000000e+00  0.000000e+00  \n",
      "10865         15           1.5          1966  1.276423e+05  0.000000e+00  \n",
      "\n",
      "[10866 rows x 21 columns]>\n"
     ]
    }
   ],
   "source": [
    "# first task: import packages & import the data\n",
    "# the data can be found on 'tmdb-movies.csv'\n",
    "import pandas as pd\n",
    "import numpy as np\n",
    "import matplotlib.pyplot as plt \n",
    "import seaborn as sn\n",
    "\n",
    "# we want the visualizations to be displayed in our notebook. Therefor we need to insert next line\n",
    "%matplotlib inline\n",
    "\n",
    "movies=pd.read_csv('tmdb-movies.csv')\n",
    "\n",
    "# we'll print the head of the data to have a first glimps and to get to know the dataset\n",
    "print(movies.head)"
   ]
  },
  {
   "cell_type": "markdown",
   "metadata": {},
   "source": [
    "<a id='wrangling'></a>\n",
    "## Data Wrangling\n",
    "\n",
    "> **Tip**: In this section of the report, you will load in the data, check for cleanliness, and then trim and clean your dataset for analysis. Make sure that you document your steps carefully and justify your cleaning decisions.\n",
    "\n",
    "### General Properties"
   ]
  },
  {
   "cell_type": "code",
   "execution_count": 66,
   "metadata": {},
   "outputs": [
    {
     "name": "stdout",
     "output_type": "stream",
     "text": [
      "id                        int64\n",
      "imdb_id                  object\n",
      "popularity              float64\n",
      "budget                    int64\n",
      "revenue                   int64\n",
      "original_title           object\n",
      "cast                     object\n",
      "homepage                 object\n",
      "director                 object\n",
      "tagline                  object\n",
      "keywords                 object\n",
      "overview                 object\n",
      "runtime                   int64\n",
      "genres                   object\n",
      "production_companies     object\n",
      "release_date             object\n",
      "vote_count                int64\n",
      "vote_average            float64\n",
      "release_year              int64\n",
      "budget_adj              float64\n",
      "revenue_adj             float64\n",
      "dtype: object\n"
     ]
    }
   ],
   "source": [
    "# Load your data and print out a few lines. Perform operations to inspect data\n",
    "#   types and look for instances of missing or possibly errant data.\n",
    "\n",
    "print(movies.dtypes)"
   ]
  },
  {
   "cell_type": "code",
   "execution_count": 18,
   "metadata": {},
   "outputs": [
    {
     "name": "stdout",
     "output_type": "stream",
     "text": [
      "0          6/9/15\n",
      "1         5/13/15\n",
      "2         3/18/15\n",
      "3        12/15/15\n",
      "4          4/1/15\n",
      "           ...   \n",
      "10861     6/15/66\n",
      "10862    12/21/66\n",
      "10863      1/1/66\n",
      "10864     11/2/66\n",
      "10865    11/15/66\n",
      "Name: release_date, Length: 10866, dtype: object\n"
     ]
    }
   ],
   "source": [
    "# as we know the datatypes of each column, we can now check if every column has the right type\n",
    "# the release date is still formatted as a string, this must be changed to the datetime class\n",
    "from datetime import datetime\n",
    "print(movies['release_date'])\n",
    "# the string is formated: %m/%d/%Y\n",
    "# i tried to use the to_datetime function but the datetime is not zero parsed, therefor my format would not work\n",
    "# i can not find a solution to this using the datetime package so I'll add the zero's manipulating the string\n",
    "movies['release_date']=pd.to_datetime(movies['release_date'],format=\"%m/%d/%y\")\n"
   ]
  },
  {
   "cell_type": "markdown",
   "metadata": {},
   "source": [
    "##### NO LONGER NEEDED!! I used the wrong format= in the previous excercise. This way the to_datetime function would not work.\n",
    "##### I found a solution manipulating the strings\n",
    "##### This was my solution but it is no longer needed\n",
    "##### -------------------------------------------------------------------------------\n",
    "##### i tried to use the to_datetime function but the datetime is not zero parsed, therefor my format would not work\n",
    "##### i can not find a solution to this using the datetime package so I'll add the zero's manipulating the string\n",
    "##### i must admit this method is not the best method but I could not find a better solution to format the string to a date type\n",
    "\n",
    "```datum=[]\n",
    "datum=movies['release_date'].str.split(\"/\"\n",
    "right_format_date=[]\n",
    "for dat in datum:\n",
    "    month=dat[0]\n",
    "    day=dat[1]\n",
    "    year=dat[2]\n",
    "    if len(dat[0])==1:\n",
    "        month=\"0\"+dat[0]\n",
    "    elif len(dat[1])==1:\n",
    "        day=\"0\"+dat[1]\n",
    "    dat=str(month+\"/\"+day+\"/\"+year)\n",
    "    right_format_date.append(dat)\n",
    "formated_date=pd.DataFrame(right_format_date)\n",
    "movies['release_date']=formated_date\n",
    "movies['release_date']=pd.to_datetime(movies['release_date'],format=\"%m/%d/%y\")```\n"
   ]
  },
  {
   "cell_type": "markdown",
   "metadata": {},
   "source": [
    "## Column names seem oké, so we won't be changing any column names"
   ]
  },
  {
   "cell_type": "code",
   "execution_count": 67,
   "metadata": {},
   "outputs": [
    {
     "name": "stdout",
     "output_type": "stream",
     "text": [
      "id                         0\n",
      "imdb_id                   10\n",
      "popularity                 0\n",
      "budget                     0\n",
      "revenue                    0\n",
      "original_title             0\n",
      "cast                      76\n",
      "homepage                7930\n",
      "director                  44\n",
      "tagline                 2824\n",
      "keywords                1493\n",
      "overview                   4\n",
      "runtime                    0\n",
      "genres                    23\n",
      "production_companies    1030\n",
      "release_date               0\n",
      "vote_count                 0\n",
      "vote_average               0\n",
      "release_year               0\n",
      "budget_adj                 0\n",
      "revenue_adj                0\n",
      "dtype: int64\n",
      "id                      0.000000\n",
      "imdb_id                 0.000920\n",
      "popularity              0.000000\n",
      "budget                  0.000000\n",
      "revenue                 0.000000\n",
      "original_title          0.000000\n",
      "cast                    0.006994\n",
      "homepage                0.729799\n",
      "director                0.004049\n",
      "tagline                 0.259893\n",
      "keywords                0.137401\n",
      "overview                0.000368\n",
      "runtime                 0.000000\n",
      "genres                  0.002117\n",
      "production_companies    0.094791\n",
      "release_date            0.000000\n",
      "vote_count              0.000000\n",
      "vote_average            0.000000\n",
      "release_year            0.000000\n",
      "budget_adj              0.000000\n",
      "revenue_adj             0.000000\n",
      "dtype: float64\n"
     ]
    }
   ],
   "source": [
    "# checking for missing values / checking for zeros \n",
    "print(movies.isna().sum())\n",
    "\n",
    "# below you'll find the missing values in percentages of the total values\n",
    "print(movies.isna().sum()/movies.shape[0])"
   ]
  },
  {
   "cell_type": "code",
   "execution_count": null,
   "metadata": {},
   "outputs": [],
   "source": []
  },
  {
   "cell_type": "code",
   "execution_count": 68,
   "metadata": {},
   "outputs": [],
   "source": [
    "# 72,9 % of the homepages are missing. maybe we should drop this column for further analysis\n",
    "movies=movies.drop('homepage',axis=1)"
   ]
  },
  {
   "cell_type": "code",
   "execution_count": 77,
   "metadata": {},
   "outputs": [
    {
     "name": "stdout",
     "output_type": "stream",
     "text": [
      "0\n",
      "Empty DataFrame\n",
      "Columns: [id, imdb_id, popularity, budget, revenue, original_title, cast, director, tagline, keywords, overview, runtime, genres, production_companies, release_date, vote_count, vote_average, release_year, budget_adj, revenue_adj]\n",
      "Index: []\n"
     ]
    }
   ],
   "source": [
    "# find duplicates\n",
    "print(movies.duplicated().sum())\n",
    "print(movies[movies.duplicated()])\n",
    "movies=movies.drop(2090,axis=0)\n",
    "\n",
    "\n",
    "\n",
    "\n"
   ]
  },
  {
   "cell_type": "code",
   "execution_count": 78,
   "metadata": {},
   "outputs": [
    {
     "name": "stdout",
     "output_type": "stream",
     "text": [
      "0\n"
     ]
    }
   ],
   "source": [
    "# check if duplicate i deleted\n",
    "print(movies.duplicated().sum())\n",
    "# if zero: ok!\n"
   ]
  },
  {
   "cell_type": "code",
   "execution_count": 79,
   "metadata": {},
   "outputs": [],
   "source": [
    "# some movies have no tagline we can change this into No Tagline in stead of NaN\n",
    "movies['tagline']=movies['tagline'].fillna('No Tagline')"
   ]
  },
  {
   "cell_type": "code",
   "execution_count": 80,
   "metadata": {},
   "outputs": [
    {
     "data": {
      "text/plain": [
       "No Tagline                                       2824\n",
       "Based on a true story.                              5\n",
       "Two Films. One Love.                                3\n",
       "Be careful what you wish for.                       3\n",
       "There are no clean getaways.                        2\n",
       "                                                 ... \n",
       "The Greatest High Adventure Ever Filmed!            1\n",
       "Her past is yet to come.                            1\n",
       "He's so far undercover he may never get back.       1\n",
       "Big sisters don't always know best.                 1\n",
       "Remember Me?                                        1\n",
       "Name: tagline, Length: 7998, dtype: int64"
      ]
     },
     "execution_count": 80,
     "metadata": {},
     "output_type": "execute_result"
    }
   ],
   "source": [
    "movies['tagline'].value_counts()"
   ]
  },
  {
   "cell_type": "code",
   "execution_count": 81,
   "metadata": {},
   "outputs": [
    {
     "data": {
      "text/plain": [
       "id                         0\n",
       "imdb_id                   10\n",
       "popularity                 0\n",
       "budget                     0\n",
       "revenue                    0\n",
       "original_title             0\n",
       "cast                      76\n",
       "director                  44\n",
       "tagline                    0\n",
       "keywords                1493\n",
       "overview                   4\n",
       "runtime                    0\n",
       "genres                    23\n",
       "production_companies    1030\n",
       "release_date               0\n",
       "vote_count                 0\n",
       "vote_average               0\n",
       "release_year               0\n",
       "budget_adj                 0\n",
       "revenue_adj                0\n",
       "dtype: int64"
      ]
     },
     "execution_count": 81,
     "metadata": {},
     "output_type": "execute_result"
    }
   ],
   "source": [
    "movies.isnull().sum()"
   ]
  },
  {
   "cell_type": "code",
   "execution_count": 102,
   "metadata": {},
   "outputs": [
    {
     "data": {
      "image/png": "[encoded data removed]",
      "text/plain": [
       "<Figure size 432x288 with 1 Axes>"
      ]
     },
     "metadata": {
      "needs_background": "light"
     },
     "output_type": "display_data"
    }
   ],
   "source": [
    "# we'll now visualize the missing data to see if there are certain rows with multiple missing valuse\n",
    "movies.isnull()\n",
    "sn.heatmap(movies.isnull(), cbar=False)\n",
    "# it looks like there is no clear correlation between the missing values so it would not be usefull to drop more rows.\n",
    "# however, we will drop the rows that have more then 2 missing values\n",
    "less_then_2_missing=movies.isnull().sum(axis=1)<3\n",
    "movies=movies[less_then_2_missing]"
   ]
  },
  {
   "cell_type": "code",
   "execution_count": 110,
   "metadata": {},
   "outputs": [],
   "source": [
    "# we will now look for a way to reconstruct the missing values. \n",
    "movies.head()\n",
    "# it looks like there is no other value that could help us reconstruct the keywords/production companies...\n",
    "# it might be possible to find the information online trough an API but this is not in the scope of the assignment\n",
    "# we will now fill in the missing values \n",
    "movies['cast']=movies['cast'].fillna('Cast Unknown')\n",
    "movies['director']=movies['director'].fillna('Director Unknown')\n",
    "movies['keywords']=movies['keywords'].fillna('No Keywords')\n",
    "movies['production_companies']=movies['production_companies'].fillna('Production Company Unknown')\n",
    "movies['imdb_id']=movies['imdb_id'].fillna('ID Unknown')\n",
    "movies['overview']=movies['overview'].fillna('No Overview')\n",
    "movies['genres']=movies['genres'].fillna('Genre Unknown')"
   ]
  },
  {
   "cell_type": "code",
   "execution_count": 111,
   "metadata": {},
   "outputs": [
    {
     "data": {
      "text/plain": [
       "id                       0\n",
       "imdb_id                  0\n",
       "popularity               0\n",
       "budget                   0\n",
       "revenue                  0\n",
       "original_title           0\n",
       "cast                     0\n",
       "director                 0\n",
       "tagline                  0\n",
       "keywords                 0\n",
       "overview                 0\n",
       "runtime                  0\n",
       "genres                   0\n",
       "production_companies     0\n",
       "release_date             0\n",
       "vote_count               0\n",
       "vote_average             0\n",
       "release_year             0\n",
       "budget_adj               0\n",
       "revenue_adj              0\n",
       "production_coompanies    0\n",
       "dtype: int64"
      ]
     },
     "execution_count": 111,
     "metadata": {},
     "output_type": "execute_result"
    }
   ],
   "source": [
    "movies.isnull().sum()"
   ]
  },
  {
   "cell_type": "markdown",
   "metadata": {},
   "source": [
    "<a id='eda'></a>\n",
    "## Exploratory Data Analysis\n",
    "\n",
    "> **Tip**: Now that you've trimmed and cleaned your data, you're ready to move on to exploration. Compute statistics and create visualizations with the goal of addressing the research questions that you posed in the Introduction section. It is recommended that you be systematic with your approach. Look at one variable at a time, and then follow it up by looking at relationships between variables.\n",
    "\n",
    "### Research Question 1 (Which genre gets the most return on investement?)\n",
    "> We'll split up this question in multiple questions.\n",
    "What genres excist? How many are there for any genre?\n",
    "\n",
    "\n",
    "> How much budget does a genre get? How much revenue does a certain genre generates? \n",
    "\n",
    "> Whats the return on investement? ROI as revenue/budget"
   ]
  },
  {
   "cell_type": "code",
   "execution_count": 114,
   "metadata": {},
   "outputs": [
    {
     "data": {
      "text/plain": [
       "Drama                                                 711\n",
       "Comedy                                                708\n",
       "Documentary                                           301\n",
       "Drama|Romance                                         289\n",
       "Comedy|Drama                                          280\n",
       "                                                     ... \n",
       "Science Fiction|Drama|Romance                           1\n",
       "Adventure|Fantasy|Animation|Comedy|Science Fiction      1\n",
       "Science Fiction|Thriller|Fantasy                        1\n",
       "Adventure|Action|Comedy|Science Fiction|Family          1\n",
       "War|Action|Thriller                                     1\n",
       "Name: genres, Length: 2036, dtype: int64"
      ]
     },
     "execution_count": 114,
     "metadata": {},
     "output_type": "execute_result"
    }
   ],
   "source": [
    "# What genres excist? How many are there for any genre?\n",
    "movies['genres'].value_counts()"
   ]
  },
  {
   "cell_type": "code",
   "execution_count": 143,
   "metadata": {},
   "outputs": [],
   "source": [
    "# How much budget does a genre get? How much revenue does a certain genre generates? \n",
    "budget_per_genre=movies.groupby('genres',as_index=False)['budget'].sum().sort_values(by='budget',ascending=False)\n",
    "revenue_per_genre=movies.groupby('genres',as_index=False)['revenue'].sum().sort_values(by='revenue',ascending=False)\n",
    "profitability_genres=budget_per_genre.merge(revenue_per_genre, on='genres',how='inner')\n"
   ]
  },
  {
   "cell_type": "code",
   "execution_count": 148,
   "metadata": {},
   "outputs": [
    {
     "data": {
      "text/html": [
       "<div>\n",
       "<style scoped>\n",
       "    .dataframe tbody tr th:only-of-type {\n",
       "        vertical-align: middle;\n",
       "    }\n",
       "\n",
       "    .dataframe tbody tr th {\n",
       "        vertical-align: top;\n",
       "    }\n",
       "\n",
       "    .dataframe thead th {\n",
       "        text-align: right;\n",
       "    }\n",
       "</style>\n",
       "<table border=\"1\" class=\"dataframe\">\n",
       "  <thead>\n",
       "    <tr style=\"text-align: right;\">\n",
       "      <th></th>\n",
       "      <th>genres</th>\n",
       "      <th>budget</th>\n",
       "      <th>revenue</th>\n",
       "      <th>ROI</th>\n",
       "    </tr>\n",
       "  </thead>\n",
       "  <tbody>\n",
       "    <tr>\n",
       "      <td>1227</td>\n",
       "      <td>Comedy|Horror|Music|Science Fiction</td>\n",
       "      <td>1200000</td>\n",
       "      <td>112892319</td>\n",
       "      <td>94.076932</td>\n",
       "    </tr>\n",
       "    <tr>\n",
       "      <td>1228</td>\n",
       "      <td>Horror|Mystery|Crime</td>\n",
       "      <td>1200000</td>\n",
       "      <td>103911669</td>\n",
       "      <td>86.593058</td>\n",
       "    </tr>\n",
       "    <tr>\n",
       "      <td>1010</td>\n",
       "      <td>Science Fiction|Adventure|Family|Fantasy</td>\n",
       "      <td>10500000</td>\n",
       "      <td>792910554</td>\n",
       "      <td>75.515291</td>\n",
       "    </tr>\n",
       "    <tr>\n",
       "      <td>1274</td>\n",
       "      <td>Mystery|Drama|Thriller</td>\n",
       "      <td>60000</td>\n",
       "      <td>4252090</td>\n",
       "      <td>70.868167</td>\n",
       "    </tr>\n",
       "    <tr>\n",
       "      <td>1076</td>\n",
       "      <td>Horror|Thriller|Adventure</td>\n",
       "      <td>7000000</td>\n",
       "      <td>470654000</td>\n",
       "      <td>67.236286</td>\n",
       "    </tr>\n",
       "    <tr>\n",
       "      <td>...</td>\n",
       "      <td>...</td>\n",
       "      <td>...</td>\n",
       "      <td>...</td>\n",
       "      <td>...</td>\n",
       "    </tr>\n",
       "    <tr>\n",
       "      <td>812</td>\n",
       "      <td>Thriller|Adventure|Drama</td>\n",
       "      <td>25000000</td>\n",
       "      <td>432274</td>\n",
       "      <td>0.017291</td>\n",
       "    </tr>\n",
       "    <tr>\n",
       "      <td>1064</td>\n",
       "      <td>Documentary|History</td>\n",
       "      <td>8000000</td>\n",
       "      <td>135039</td>\n",
       "      <td>0.016880</td>\n",
       "    </tr>\n",
       "    <tr>\n",
       "      <td>675</td>\n",
       "      <td>Drama|War|Romance|Western</td>\n",
       "      <td>38000000</td>\n",
       "      <td>635096</td>\n",
       "      <td>0.016713</td>\n",
       "    </tr>\n",
       "    <tr>\n",
       "      <td>1167</td>\n",
       "      <td>Drama|Action|Comedy|Crime</td>\n",
       "      <td>3500010</td>\n",
       "      <td>44462</td>\n",
       "      <td>0.012703</td>\n",
       "    </tr>\n",
       "    <tr>\n",
       "      <td>947</td>\n",
       "      <td>Action|Horror|Mystery|Thriller</td>\n",
       "      <td>15000000</td>\n",
       "      <td>163169</td>\n",
       "      <td>0.010878</td>\n",
       "    </tr>\n",
       "  </tbody>\n",
       "</table>\n",
       "<p>1055 rows × 4 columns</p>\n",
       "</div>"
      ],
      "text/plain": [
       "                                        genres    budget    revenue        ROI\n",
       "1227       Comedy|Horror|Music|Science Fiction   1200000  112892319  94.076932\n",
       "1228                      Horror|Mystery|Crime   1200000  103911669  86.593058\n",
       "1010  Science Fiction|Adventure|Family|Fantasy  10500000  792910554  75.515291\n",
       "1274                    Mystery|Drama|Thriller     60000    4252090  70.868167\n",
       "1076                 Horror|Thriller|Adventure   7000000  470654000  67.236286\n",
       "...                                        ...       ...        ...        ...\n",
       "812                   Thriller|Adventure|Drama  25000000     432274   0.017291\n",
       "1064                       Documentary|History   8000000     135039   0.016880\n",
       "675                  Drama|War|Romance|Western  38000000     635096   0.016713\n",
       "1167                 Drama|Action|Comedy|Crime   3500010      44462   0.012703\n",
       "947             Action|Horror|Mystery|Thriller  15000000     163169   0.010878\n",
       "\n",
       "[1055 rows x 4 columns]"
      ]
     },
     "execution_count": 148,
     "metadata": {},
     "output_type": "execute_result"
    }
   ],
   "source": [
    "# As we calculate the ROI we stumble on a problem\n",
    "# Some genres/movies have a buget/revenue of zero due to missing values. \n",
    "# So we will drop the genres which have a value of 0 or a revenue of 0, since this is not possible in reality\n",
    "# We'll also exclude budget which are 100 times less then the revenue and visa versa since this does not look realistic\n",
    "profitability_genres['ROI']=profitability_genres['revenue']/profitability_genres['budget']\n",
    "budget_not_null=np.invert(profitability_genres['budget']<(profitability_genres['revenue']/100))\n",
    "profitability_genres=profitability_genres[budget_not_null]\n",
    "revenue_not_null=np.invert(profitability_genres['revenue']<(profitability_genres['budget']/100))\n",
    "profitability_genres=profitability_genres[revenue_not_null]\n",
    "profitability_genres.sort_values(by='ROI',ascending=False)"
   ]
  },
  {
   "cell_type": "code",
   "execution_count": null,
   "metadata": {},
   "outputs": [],
   "source": []
  }
 ],
 "metadata": {
  "kernelspec": {
   "display_name": "Python 3",
   "language": "python",
   "name": "python3"
  },
  "language_info": {
   "codemirror_mode": {
    "name": "ipython",
    "version": 3
   },
   "file_extension": ".py",
   "mimetype": "text/x-python",
   "name": "python",
   "nbconvert_exporter": "python",
   "pygments_lexer": "ipython3",
   "version": "3.7.4"
  }
 },
 "nbformat": 4,
 "nbformat_minor": 2
}
